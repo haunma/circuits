{
 "cells": [
  {
   "cell_type": "markdown",
   "id": "8ef95e1d-eab7-4d83-aff0-7a9aea5b10fc",
   "metadata": {
    "tags": []
   },
   "source": [
    "# Lab 2: Node and Mesh Analysis\n",
    "ENGR 228\\\n",
    "Bob Smith (partner: Alice Jones)\n",
    "\n",
    "## Introduction\n",
    "\n",
    "A short paragraph which explains what the lab was about.\n",
    "\n",
    "## 1. Resistance measurements\n",
    "\n",
    "What's this about?\n",
    "\n",
    "| Resistor ID | Nominal R (k$\\Omega$) | Measured R (k$\\Omega$) | Percent Error (%) |\n",
    "| ---         | ---                   | ---                    | ---               |\n",
    "| $R_1$       | 10                    |                        |                   |\n",
    "| $R_2$       | 20                    |                        |                   |\n",
    "| $R_3$       | 30                    |                        |                   |\n",
    "| $R_4$       | 20                    |                        |                   |\n",
    "| $R_5$       | 10                    |                        |                   |\n"
   ]
  },
  {
   "cell_type": "code",
   "execution_count": 1,
   "id": "7902148c-9114-4b75-ac7e-9b6985981d87",
   "metadata": {
    "tags": []
   },
   "outputs": [
    {
     "name": "stdout",
     "output_type": "stream",
     "text": [
      "% errors between measured and nominal resistances = [0.0000 0.0000 0.0000 0.0000 0.0000]\n"
     ]
    }
   ],
   "source": [
    "# Importing these packages lets us do everything we want in the code blocks below.\n",
    "# NumPy is a matrix-based calculation package a lot like MATLAB.\n",
    "# Matplotlib is a graphing and visualization toolkit (sort of like the plotting functionality of MATLAB).\n",
    "import numpy as np\n",
    "import matplotlib\n",
    "import matplotlib.pyplot as plt\n",
    "matplotlib.rcParams.update({'font.size': 18, 'axes.xmargin': 0})\n",
    "np.set_printoptions(floatmode='fixed', precision=4)\n",
    "\n",
    "Rnom = np.array([10e3, 20e3, 30e3, 20e3, 10e3])           # nominal resistances\n",
    "Rmeas = np.array([10e3, 20e3, 30e3, 20e3, 10e3])          # replacw measured resistances\n",
    "\n",
    "# calculate and print the percentage errors\n",
    "print(\"% errors between measured and nominal resistances = {}\".format(100*(Rmeas - Rnom)/Rnom))"
   ]
  },
  {
   "cell_type": "markdown",
   "id": "08fa1b79-3c60-4801-97f0-d9a240004c0b",
   "metadata": {
    "tags": []
   },
   "source": [
    "\n",
    "\n",
    "\n",
    "\n",
    "## 2. Verification of the voltage-divider principle\n",
    "\n",
    "We built the circuit shown in Figure 1 of the lab handout.  This circuit...\n",
    "\n",
    "The voltages at nodes A and B may be calculated using the voltage-divider principle.  Symbolically,\n",
    "\n",
    "$$\n",
    "v_A = v_s \\left( \\frac{R_2 + R_3}{R_1 + R_2 + R_3} \\right)\\\\\n",
    "v_B = v_s \\left( \\frac{R_3}{R_1 + R_2 + R_3} \\right)\n",
    "$$\n",
    "\n",
    "The calculated voltages in the table below use the measured values of the resistors.\n",
    "\n",
    "| Node | Calculated Node Voltage (V) | Measured Node Voltage (V) | Percent Error (%) |\n",
    "| ---  | ---                         | ---                       | ---               |\n",
    "| A    |                             |                           |                   |\n",
    "| B    |                             |                           |                   |\n",
    "\n",
    "Comments on the results?"
   ]
  },
  {
   "cell_type": "code",
   "execution_count": 2,
   "id": "863fbd19-1f23-463a-be20-d1390e8e3e3b",
   "metadata": {
    "tags": []
   },
   "outputs": [
    {
     "name": "stdout",
     "output_type": "stream",
     "text": [
      "[0.0000 0.0000]\n",
      "[nan nan]\n"
     ]
    },
    {
     "name": "stderr",
     "output_type": "stream",
     "text": [
      "C:\\Users\\mark\\AppData\\Local\\Temp\\ipykernel_8020\\1897315651.py:12: RuntimeWarning: invalid value encountered in true_divide\n",
      "  print(100*(nodeVmeas - nodeVcalc)/nodeVcalc)\n"
     ]
    }
   ],
   "source": [
    "# Calculate the node voltages in the voltage divider circuit, then find the percent error between the calculated and measured values.\n",
    "#\n",
    "# Expected voltage at each node (A and B).  Note that we are using the *measured*\n",
    "# values (Rmeas) because now that we know them, they give us the best predictions.\n",
    "nodeVcalc = np.zeros(2)\n",
    "nodeVcalc[0] = 0 # fix me!\n",
    "nodeVcalc[1] = 0 # fix me!\n",
    "print(nodeVcalc)\n",
    "\n",
    "# Put the measured voltages here.\n",
    "nodeVmeas = np.array([0, 0])\n",
    "print(100*(nodeVmeas - nodeVcalc)/nodeVcalc)"
   ]
  },
  {
   "cell_type": "markdown",
   "id": "70edca04-ec2f-4eb4-8257-3179d8ae7353",
   "metadata": {},
   "source": [
    "## 3. Verification of Kirchhoff's Laws\n",
    "\n",
    "We built the circuit in Figure 2 of the lab handout and ...\n",
    "\n",
    "Theoretical formulas for calculating each circuit parameter in the table below may be found...\n",
    "\n",
    "| Circuit parameter | Calculated | Measured | Percent Error (%) |\n",
    "| ---               | ---        | ---      | ---               |\n",
    "| $v_1$ (V)         |            |          |                   |\n",
    "| $v_2$ (V)         |            |          |                   |\n",
    "| $i_1$ (mA)        |            |          |                   |\n",
    "| $i_2$ (mA)        |            |          |                   |\n",
    "| $i_3$ (mA)        |            |          |                   |\n",
    "| $p_{8V}$ (mW)     |            |          |                   |\n",
    "| $p_{5V}$ (mW)     |            |          |                   |\n",
    "| $p_{R1}$ (mW)     |            |          |                   |\n",
    "| $p_{R2}$ (mW)     |            |          |                   |\n",
    "| $p_{R3}$ (mW)     |            |          |                   |\n",
    "| $p_{R4}$ (mW)     |            |          |                   |\n",
    "| $p_{R5}$ (mW)     |            |          |                   |\n",
    "\n",
    "Comments on the results?"
   ]
  },
  {
   "cell_type": "code",
   "execution_count": 4,
   "id": "0cb90f17-d8dc-4017-9e10-f4dafe10ecca",
   "metadata": {
    "tags": []
   },
   "outputs": [
    {
     "name": "stdout",
     "output_type": "stream",
     "text": [
      "  Measured node voltages = [0 0] V\n",
      "Calculated node voltages = [6.3333 3.3333] V\n",
      "% errors between measured and calculated voltages = [-100.0000 -100.0000]\n",
      "\n",
      "  Measured mesh currents = [0 0 0] mA\n",
      "Calculated mesh currents = [0.4000 0.2333 0.3333] mA\n",
      "% errors between measured and calculated currents = [-100.0000 -100.0000 -100.0000]\n",
      "\n",
      "  Measured powers = [0.0000 0.0000 0.0000 0.0000 0.0000 0.0000 0.0000] mW\n",
      "Calculated powers = [-3.2000  0.3333  0.0000  0.0000  0.0000  0.0000  0.0000] mW\n",
      "% errors between measured and calculated powers = [-100.0000 -100.0000       nan       nan       nan       nan       nan]\n",
      "Sum of measured powers in this circuit = 0.0 mW\n",
      "\n",
      "Sum of currents at node v1 = -1.05 mA\n",
      "Sum of currents at node v2 = 0 mA\n",
      "Sum of voltage drops around mesh 1 = -3.0 V\n",
      "Sum of voltage drops around mesh 2 = 0 V\n",
      "Sum of voltage drops around mesh 3 = 0 V\n"
     ]
    },
    {
     "name": "stderr",
     "output_type": "stream",
     "text": [
      "C:\\Users\\mark\\AppData\\Local\\Temp\\ipykernel_8020\\983486012.py:59: RuntimeWarning: invalid value encountered in true_divide\n",
      "  print(\"% errors between measured and calculated powers = {}\".format(100*(pmeas - pcalc)/pcalc))\n"
     ]
    }
   ],
   "source": [
    "# Voltage sources (if not exactly 8V and 5V)\n",
    "vsrc8 = 8\n",
    "vsrc5 = 5\n",
    "\n",
    "# Define arrays for the measured voltages and currents\n",
    "vmeas = np.array([0, 0])                # v1, v2\n",
    "imeas = np.array([0, 0, 0])             # i1, i2, i3\n",
    "\n",
    "# Calculated node voltages\n",
    "# These are the node analysis equations in matrix form, Ax = b where A is the\n",
    "# matrix of coefficients on the node voltages, x = [ v1 v2 ], and b = the vector\n",
    "# of constant terms.\n",
    "A = np.array([[ (1/Rmeas[0])+(1/Rmeas[2])+(1/Rmeas[3]), -1/Rmeas[2] ],\n",
    "              [ -1/Rmeas[2], (1/Rmeas[1])+(1/Rmeas[2])+(1/Rmeas[4]) ]])\n",
    "b = np.array([ (vsrc8/Rmeas[0])+(vsrc5/Rmeas[3]), vsrc8/Rmeas[1] ])\n",
    "# Solve for the currents using x = A^-1 * b\n",
    "vcalc = np.linalg.inv(A) @ b\n",
    "print(\"  Measured node voltages = {} V\".format(vmeas))\n",
    "print(\"Calculated node voltages = {} V\".format(vcalc))\n",
    "print(\"% errors between measured and calculated voltages = {}\\n\".format(100*(vmeas - vcalc)/vcalc))\n",
    "\n",
    "# Calculated mesh currents\n",
    "# These are the mesh analysis equations in matrix form, Ax = b where A is the\n",
    "# matrix of coefficients on the mesh currents, x = [ i1 i2 i3 ], and b = [3 0 5]\n",
    "# (the constant terms).\n",
    "A = np.array([[Rmeas[0]+Rmeas[3], -Rmeas[0], -Rmeas[3]],\n",
    "              [-Rmeas[0], Rmeas[0]+Rmeas[1]+Rmeas[2], -Rmeas[2]],\n",
    "              [-Rmeas[3], -Rmeas[2], Rmeas[2]+Rmeas[3]+Rmeas[4]]])\n",
    "b = np.array([vsrc8-vsrc5, 0, vsrc5])\n",
    "# Solve for the currents using x = A^-1 * b\n",
    "icalc = np.linalg.inv(A) @ b\n",
    "print(\"  Measured mesh currents = {} mA\".format(1000*imeas))\n",
    "print(\"Calculated mesh currents = {} mA\".format(1000*icalc))\n",
    "print(\"% errors between measured and calculated currents = {}\\n\".format(100*(imeas - icalc)/icalc))\n",
    "\n",
    "# \"Measured\" powers\n",
    "# We can't measure power directly, so \"measured\" here means using p=vi where v and i are both measured\n",
    "pmeas = np.zeros(7)\n",
    "pmeas[0] = -vsrc8*imeas[0]                       # 8V source\n",
    "pmeas[1] = vsrc5*(imeas[0]-imeas[2])             # 5V source\n",
    "pmeas[2] = (vsrc8-vmeas[0])*(imeas[0]-imeas[2])  # R1\n",
    "pmeas[3] = 0 # fix me!\n",
    "pmeas[4] = 0 # fix me!\n",
    "pmeas[5] = 0 # fix me!\n",
    "pmeas[6] = vmeas[1]*imeas[2]                     # R5\n",
    "\n",
    "# Calculated powers\n",
    "# For the resistors,ok to use p=vi (both calculated) or p=i^2 R (i calculated and R measured)\n",
    "pcalc = np.zeros(7)\n",
    "pcalc[0] = -vsrc8*icalc[0]                        # 8V source\n",
    "pcalc[1] = vsrc5*(icalc[0]-icalc[2])              # 5V source\n",
    "pcalc[2] = (imeas[0]-imeas[2])**2 * Rmeas[0]      # R1\n",
    "pcalc[3] = 0 # fix me!\n",
    "pcalc[4] = 0 # fix me!\n",
    "pcalc[5] = 0 # fix me!\n",
    "pcalc[6] = imeas[2]**2 * Rmeas[4]                 # R5\n",
    "print(\"  Measured powers = {} mW\".format(1000*pmeas))\n",
    "print(\"Calculated powers = {} mW\".format(1000*pcalc))\n",
    "print(\"% errors between measured and calculated powers = {}\".format(100*(pmeas - pcalc)/pcalc))\n",
    "print(\"Sum of measured powers in this circuit = {} mW\\n\".format(1000*np.sum(pmeas)))\n",
    "\n",
    "# Verification of KCL\n",
    "isum1 = (vmeas[0]-vsrc8)/Rmeas[0] + (vmeas[0]-vmeas[1])/Rmeas[2] + (vmeas[0]-vsrc5)/Rmeas[3]\n",
    "isum2 = 0 # fix me!  use measured voltages and resistances\n",
    "print(\"Sum of currents at node v1 = {} mA\".format(1000*isum1))\n",
    "print(\"Sum of currents at node v2 = {} mA\".format(1000*isum2))\n",
    "\n",
    "# Verification of KVL\n",
    "vsum1 = -vsrc8 + Rmeas[0]*(imeas[0]-imeas[1]) + Rmeas[3]*(imeas[0]-imeas[2]) + vsrc5\n",
    "vsum2 = 0 # fix me!  use measured currents and resistances\n",
    "vsum3 = 0 # fix me!  use measured currents and resistances\n",
    "print(\"Sum of voltage drops around mesh 1 = {} V\".format(vsum1))\n",
    "print(\"Sum of voltage drops around mesh 2 = {} V\".format(vsum2))\n",
    "print(\"Sum of voltage drops around mesh 3 = {} V\".format(vsum3))\n"
   ]
  },
  {
   "cell_type": "markdown",
   "id": "d7702426-fc3f-4055-8179-e9b22c1498f9",
   "metadata": {},
   "source": [
    "Observations?  Consider the questions/checklists/etc in the lab handout.\n",
    "\n",
    "When you are done with your report, please print it and turn it in on paper.  Each person should turn in their own report, with their own writing.  Work together with your partner on everything else: data collection, tables, graphs, and python code.\n"
   ]
  },
  {
   "cell_type": "code",
   "execution_count": null,
   "id": "45ea1b98-8ebb-41c9-8d3e-aafa9789d29c",
   "metadata": {},
   "outputs": [],
   "source": []
  }
 ],
 "metadata": {
  "kernelspec": {
   "display_name": "Python 3 (ipykernel)",
   "language": "python",
   "name": "python3"
  },
  "language_info": {
   "codemirror_mode": {
    "name": "ipython",
    "version": 3
   },
   "file_extension": ".py",
   "mimetype": "text/x-python",
   "name": "python",
   "nbconvert_exporter": "python",
   "pygments_lexer": "ipython3",
   "version": "3.9.1"
  }
 },
 "nbformat": 4,
 "nbformat_minor": 5
}
