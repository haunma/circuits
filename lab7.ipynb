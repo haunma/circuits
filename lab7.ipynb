{
 "cells": [
  {
   "cell_type": "markdown",
   "id": "8ef95e1d-eab7-4d83-aff0-7a9aea5b10fc",
   "metadata": {
    "tags": []
   },
   "source": [
    "# Lab 7: RC filter design\n",
    "ENGR 228\\\n",
    "Bob Smith (partner: Alice Jones)\n",
    "\n",
    "## Introduction\n",
    "\n",
    "One or two short paragraphs which explain, not so much what you did, but what the lab was *about*.  You can reference figures in the lab handout if that helps.\n",
    "\n",
    "## 1. Low-pass filter design\n",
    "\n",
    "You should delete all text that you find here.  I only include it to help you know what to include in your report.\n",
    "\n",
    "Here you should be explaining the process for choosing your $R$: first picking your desired $f_0$, then measuring $C$, then finding the $R$ required to achieve your $f_0$, then finding the closest value in the drawers, then going back and figuring out what your actual $f_0$ is expected to be.  Of course, because I titled this section \"Low-pass filter design\" you should clarify which of the filter circuits is a low-pass filter.\n",
    "\n",
    "|       | Target value | Measured or predicted value |\n",
    "| ---   | ---          | ---                         |\n",
    "| $C$   | --------     | 0.0 nF                      |\n",
    "| $R$   | 0.0 Ω        | 0.0 Ω                       |\n",
    "| $f_0$ | 0.0 Hz       | 0.0 Hz                      |\n",
    "\n",
    "(These are suggested units.  You're free to change them if it makes sense.)\n",
    "\n",
    "How did you connect the various measuring instruments, and how did you take data?  You should also explain the python code and the graphs that it generates.  What are they showing?  (Good titles, axis labels, and legends will help too.)"
   ]
  },
  {
   "cell_type": "code",
   "execution_count": 17,
   "id": "7902148c-9114-4b75-ac7e-9b6985981d87",
   "metadata": {
    "tags": []
   },
   "outputs": [
    {
     "ename": "SyntaxError",
     "evalue": "invalid syntax (1710555307.py, line 10)",
     "output_type": "error",
     "traceback": [
      "\u001b[1;36m  Input \u001b[1;32mIn [17]\u001b[1;36m\u001b[0m\n\u001b[1;33m    R =\u001b[0m\n\u001b[1;37m        ^\u001b[0m\n\u001b[1;31mSyntaxError\u001b[0m\u001b[1;31m:\u001b[0m invalid syntax\n"
     ]
    }
   ],
   "source": [
    "import numpy as np\n",
    "import matplotlib\n",
    "import matplotlib.pyplot as plt\n",
    "matplotlib.rcParams.update({'font.size': 18, 'axes.xmargin': 0})\n",
    "np.set_printoptions(floatmode='fixed', precision=4)\n",
    "\n",
    "# NOTE: It is up to you to choose your units and update the code to match!\n",
    "\n",
    "# Actual measured values of R and C\n",
    "R = \n",
    "C = \n",
    "\n",
    "# Create an array of frequencies with logarithmic spacing (so they appear equally spaced\n",
    "# on a log axis when graphing).  You will probably want to change this, because it defines\n",
    "# the range of frequencies displayed on your graphs.\n",
    "f = np.geomspace(start=1e2, stop=1e4, num=500)\n",
    "\n",
    "# Convert the array of frequencies from Hz to radians\n",
    "omega = 2*np.pi*f\n",
    "\n",
    "# Theoretical magnitude and phase of Vo/Vi for filter 1 (from your prelab homework)\n",
    "filter1_mag = \n",
    "filter1_phase = \n",
    "\n",
    "# Your measurements of magnitude ratio and phase difference for filter 1, at various frequencies\n",
    "filter1_f_data = np.array([0, 0, 0])\n",
    "\n",
    "filter1_Vo = np.array([0, 0, 0])\n",
    "filter1_Vi = np.array([0, 0, 0])\n",
    "filter1_mag_data = filter1_Vo / filter1_Vi\n",
    "\n",
    "filter1_phase_data = np.array([0, 0, 0])\n",
    "\n",
    "\n",
    "# Plot theoretical curve and measured data for |Vo/Vi|\n",
    "fig, ax1 = plt.subplots(1, 1, figsize=(12,10))     # create the axis\n",
    "ax1.loglog(filter1_f_data, filter1_mag_data, 'o', label=r\"hello\")  # plot the data points as points\n",
    "ax1.loglog(f, filter1_mag, label=r\"hello\")   # plot the theoretical calculation as a curve\n",
    "ax1.grid(which=both)\n",
    "ax1.set_xlabel(r\"Good x axis label\")\n",
    "ax1.set_ylabel(r\"Example axis label with math symbols: $\\sqrt{\\rho^3}$\")\n",
    "ax1.set_title(r\"Good title\")\n",
    "plt.legend(loc='upper right')  # make a legend using the \"label\" text of each plot cmd\n",
    "plt.show()\n",
    "\n",
    "# Plot theoretical curve and measured data for angle of Vo/Vi\n",
    "fig, ax1 = plt.subplots(1, 1, figsize=(12,10))     # create the axis\n",
    "ax1.semilogx(filter1_f_data, filter1_phase_data, 'o', label=r\"hello\")  # plot the data points as points\n",
    "ax1.semilogx(f, filter1_phase, label=r\"hello\")   # plot the theoretical calculation as a curve\n",
    "ax1.grid(which=both)\n",
    "ax1.set_xlabel(r\"Good x axis label\")\n",
    "ax1.set_ylabel(r\"Example axis label with math symbols: $\\sqrt{\\rho^3}$\")\n",
    "ax1.set_title(r\"Good title\")\n",
    "plt.legend(loc='upper right')  # make a legend using the \"label\" text of each plot cmd\n",
    "plt.show()\n"
   ]
  },
  {
   "cell_type": "markdown",
   "id": "35626e7a-d7d1-4daa-9f4b-0e8523ea279f",
   "metadata": {},
   "source": [
    "## 2. High-pass filter design\n",
    "\n",
    "You are free to choose a new $f_0$ if you like, and change $R$ accordingly.  If you do, make sure to copy the table here and update it for your new design.  Otherwise, you should mention that your $f_0$ is the same as before.  You should probably also explain why it is that you get the same $f_0$ for both filters when $R$ and $C$ are the same.\n",
    "\n",
    "Explain anything that changed between the low-pass case and here.  Then introduce the graphs which follow."
   ]
  },
  {
   "cell_type": "code",
   "execution_count": 18,
   "id": "ff54b421-78c6-40a1-a57d-d93867a66c02",
   "metadata": {
    "tags": []
   },
   "outputs": [
    {
     "ename": "SyntaxError",
     "evalue": "invalid syntax (969263251.py, line 2)",
     "output_type": "error",
     "traceback": [
      "\u001b[1;36m  Input \u001b[1;32mIn [18]\u001b[1;36m\u001b[0m\n\u001b[1;33m    filter2_mag =\u001b[0m\n\u001b[1;37m                  ^\u001b[0m\n\u001b[1;31mSyntaxError\u001b[0m\u001b[1;31m:\u001b[0m invalid syntax\n"
     ]
    }
   ],
   "source": [
    "# Theoretical magnitude and phase of Vo/Vi for filter 1 (from your prelab homework)\n",
    "filter2_mag = \n",
    "filter2_phase = \n",
    "\n",
    "# Your measurements of magnitude ratio and phase difference for filter 1, at various frequencies\n",
    "filter2_f_data = np.array([0, 0, 0])\n",
    "\n",
    "filter2_Vo = np.array([0, 0, 0])\n",
    "filter2_Vi = np.array([0, 0, 0])\n",
    "filter2_mag_data = filter2_Vo / filter2_Vi\n",
    "\n",
    "filter2_phase_data = np.array([0, 0, 0])\n",
    "\n",
    "\n",
    "# Plot theoretical curve and measured data for |Vo/Vi|\n",
    "fig, ax1 = plt.subplots(1, 1, figsize=(12,10))     # create the axis\n",
    "ax1.loglog(filter2_f_data, filter2_mag_data, 'o', label=r\"hello\")  # plot the data points as points\n",
    "ax1.loglog(f, filter2_mag, label=r\"hello\")   # plot the theoretical calculation as a curve\n",
    "ax1.grid(which=both)\n",
    "ax1.set_xlabel(r\"Good x axis label\")\n",
    "ax1.set_ylabel(r\"Example axis label with math symbols: $\\sqrt{\\rho^3}$\")\n",
    "ax1.set_title(r\"Good title\")\n",
    "plt.legend(loc='upper right')  # make a legend using the \"label\" text of each plot cmd\n",
    "plt.show()\n",
    "\n",
    "# Plot theoretical curve and measured data for angle of Vo/Vi\n",
    "fig, ax1 = plt.subplots(1, 1, figsize=(12,10))     # create the axis\n",
    "ax1.semilogx(filter2_f_data, filter2_phase_data, 'o', label=r\"hello\")  # plot the data points as points\n",
    "ax1.semilogx(f, filter2_phase, label=r\"hello\")   # plot the theoretical calculation as a curve\n",
    "ax1.grid(which=both)\n",
    "ax1.set_xlabel(r\"Good x axis label\")\n",
    "ax1.set_ylabel(r\"Example axis label with math symbols: $\\sqrt{\\rho^3}$\")\n",
    "ax1.set_title(r\"Good title\")\n",
    "plt.legend(loc='upper right')  # make a legend using the \"label\" text of each plot cmd\n",
    "plt.show()\n"
   ]
  },
  {
   "cell_type": "markdown",
   "id": "c4b2d345-3b2b-42de-894e-d2d00c5c6d62",
   "metadata": {},
   "source": [
    "## Summary\n",
    "\n",
    "Among other things, you should comment on your results and the graphs above.  See the lab handout for some suggested questions to address.\n"
   ]
  }
 ],
 "metadata": {
  "kernelspec": {
   "display_name": "Python 3 (ipykernel)",
   "language": "python",
   "name": "python3"
  },
  "language_info": {
   "codemirror_mode": {
    "name": "ipython",
    "version": 3
   },
   "file_extension": ".py",
   "mimetype": "text/x-python",
   "name": "python",
   "nbconvert_exporter": "python",
   "pygments_lexer": "ipython3",
   "version": "3.9.1"
  }
 },
 "nbformat": 4,
 "nbformat_minor": 5
}
