{
 "cells": [
  {
   "cell_type": "markdown",
   "id": "8ef95e1d-eab7-4d83-aff0-7a9aea5b10fc",
   "metadata": {
    "tags": []
   },
   "source": [
    "# Lab 6: RLC circuits\n",
    "ENGR 228\\\n",
    "Bob Smith (partner: Alice Jones)\n",
    "\n",
    "## Introduction\n",
    "\n",
    "One or two short paragraphs which explain what the lab was about.  You can reference figures in the lab handout if that helps.\n",
    "\n",
    "## 1. Analyzing under-damped RLC response to determine L and C\n",
    "\n",
    "Explain the basis for this part of the lab.  What are you doing here and why does it work?  What challenges did you encounter and how did you deal with them?  What was the function generator set to, and why was that particular waveshape and frequency chosen?  How did you get data from the oscilloscope, and how did you process it prior to fitting?  Etc. (You may think of more questions to answer.)  You had to be careful in how you adjusted the oscilloscope to get a high-quality capture, and your readers will want to know some details about that too.\n",
    "\n",
    "You should probably also mention $R_{int}$ and how you arrived at a value for that.  Also the values of L and C you obtained from the Philips LCR meter.\n",
    "\n",
    "The table below...\n",
    "\n",
    "| Time (µs) | + or - peak voltage (V) |\n",
    "| ---       | ---                     |\n",
    "|           |                         |\n",
    "|           |                         |\n",
    "|           |                         |\n",
    "|           |                         |\n",
    "|           |                         |\n",
    "|           |                         |\n",
    "|           |                         |\n",
    "|           |                         |\n",
    "|           |                         |\n",
    "|           |                         |\n",
    "\n",
    "This would be a great place to explain what the python code below is doing, i.e. how did you prepare your peak data for fitting, and what does the fitted line tell you?"
   ]
  },
  {
   "cell_type": "code",
   "execution_count": 2,
   "id": "7902148c-9114-4b75-ac7e-9b6985981d87",
   "metadata": {
    "tags": []
   },
   "outputs": [
    {
     "ename": "SyntaxError",
     "evalue": "invalid syntax (3002917733.py, line 39)",
     "output_type": "error",
     "traceback": [
      "\u001b[1;36m  Input \u001b[1;32mIn [2]\u001b[1;36m\u001b[0m\n\u001b[1;33m    omega_d =\u001b[0m\n\u001b[1;37m             ^\u001b[0m\n\u001b[1;31mSyntaxError\u001b[0m\u001b[1;31m:\u001b[0m invalid syntax\n"
     ]
    }
   ],
   "source": [
    "import numpy as np\n",
    "import matplotlib\n",
    "import matplotlib.pyplot as plt\n",
    "matplotlib.rcParams.update({'font.size': 18})\n",
    "np.set_printoptions(floatmode='fixed', precision=4)\n",
    "\n",
    "from scipy.optimize import curve_fit\n",
    "\n",
    "# NOTE: It is up to you to choose your units and update the code to match!\n",
    "\n",
    "# Assumed function-generator resistance, plus measured inductor resistance\n",
    "Rint = 50 + 0.0     # Ohms\n",
    "\n",
    "# Measured values of L and C (bench DMM and Philips LCR meter)\n",
    "Cmeas = 0    # units?\n",
    "Lmeas = 0    # units?\n",
    "\n",
    "# Under-damped oscillation peak data.  Decide on your units and then be consistent.\n",
    "t_pk = np.array([0, 0, 0, 0, 0, 0, 0, 0, 0, 0])\n",
    "v_pk = np.array([0, 0, 0, 0, 0, 0, 0, 0, 0, 0])\n",
    "\n",
    "# For fitting, use the natural log of the absolute value of the peak voltages\n",
    "ydata = ...\n",
    "\n",
    "# Perform a linear least-squares fit to the data.  We do this because we expect that it will\n",
    "# follow a linear relation, and any deviations from a perfect line are due to error/noise.\n",
    "N = len(ydata)  # number of data points\n",
    "A = np.vstack( [ t_pk, np.ones(N) ] ).T\n",
    "result = np.linalg.lstsq(A, ydata, rcond=None)\n",
    "(m, b) = result[0]  # m is the slope and b is the y-intercept\n",
    "rsquared = 1 - result[1] / (N * ydata.var())\n",
    "print(\"rsquared = {} for the linear least-squares fit\".format(rsquared))\n",
    "\n",
    "# Make a line from the slope and y-intercept we found above\n",
    "x = np.linspace(0, np.max(t_pk), num=100)   # array of 100 evenly spaced x values\n",
    "y = m*x + b\n",
    "\n",
    "# Estimate omega_d using the peak times.  See the lab handout for hints.  You may find \"np.diff\"\n",
    "# \"np.mean\" useful, if you stored your peak times in order (+ peak, - peak, + peak, - peak, etc.)\n",
    "omega_d =\n",
    "\n",
    "# Calculate the remaining series-RLC constants based on the fit line slope and omega_d.\n",
    "# The order below is recommended.  (Each variable only depends on variables above it.)\n",
    "alpha = \n",
    "L = \n",
    "omega_0 =\n",
    "C = \n",
    "\n",
    "# Print out a summary of everything we found/calculated\n",
    "print(\"\"\"\n",
    "Estimated series-RLC circuit constants:\n",
    "  alpha   = {:.4f} <your units here>\n",
    "  omega_d = {:.4f} <your units here>\n",
    "  omega_0 = {:.4f} <your units here>\n",
    "    R_int = {:.4f} <your units here>\n",
    "        L = {:.4e} <your units here>, L measured = {:.4e}, error = {:.2f} %\n",
    "        C = {:.4e} <your units here>, C measured = {:.4e}, error = {:.2f} %\n",
    "\"\"\".format(alpha, omega_d, omega_0, Rint, L, Lmeas, 100*(L-Lmeas)/Lmeas, C, Cmeas, 100*(C-Cmeas)/Cmeas))\n",
    "\n",
    "# Plot data and fit line\n",
    "fig, ax1 = plt.subplots(1, 1, figsize=(12,10))     # create the axis\n",
    "ax1.plot(t_pk, ydata, 'o', label=r\"Your label here\")  # plot the data points as points\n",
    "ax1.plot(x, y, label=r\"Your label here\")              # plot the linear fit as a line\n",
    "ax1.set_xlim(0,70)   # change as appropriate to your data\n",
    "ax1.grid()\n",
    "ax1.set_xlabel(r\"Good x axis label\")\n",
    "ax1.set_ylabel(r\"Example axis label with math symbols: $\\sqrt{\\rho^3}$\")\n",
    "ax1.set_title(r\"Good title\")\n",
    "plt.legend(loc='upper right')  # make a legend using the \"label\" text of each plot cmd\n",
    "plt.show()\n"
   ]
  },
  {
   "cell_type": "markdown",
   "id": "35626e7a-d7d1-4daa-9f4b-0e8523ea279f",
   "metadata": {},
   "source": [
    "Comment on the values computed above.  (You don't have to make a separate table for the results.)  Can you think of some likely error sources?\n",
    "\n",
    "## 2. Observations of slight under- and over-damping\n",
    "\n",
    "This section is mostly up to you.  I expect you to include a hand sketch or a PNG screenshot (not a photo from your phone) for each case and explain the differences that you see.  Of course, you should also explain how you calculated the $R$ for critical damping (don't forget to account for $R_{int}$!) and say which resistors you picked from the supply drawers for $R_+$ and $R_-$.\n",
    "\n",
    "## 3. Series RLC circuit driven by a sinusoid\n",
    "\n",
    "What did you do here?  What is the point of this section?  How should the results be compared with the earlier parts of lab?\n",
    "\n",
    "| Frequency (kHz) | AC voltage on capacitor (Vrms) |\n",
    "| ---             | ---                            |\n",
    "|                 |                                |\n",
    "|                 |                                |\n",
    "|                 |                                |\n",
    "|                 |                                |\n",
    "|                 |                                |\n",
    "|                 |                                |\n",
    "|                 |                                |\n",
    "|                 |                                |\n",
    "|                 |                                |\n",
    "|                 |                                |\n",
    "|                 |                                |\n",
    "|                 |                                |\n"
   ]
  },
  {
   "cell_type": "code",
   "execution_count": 10,
   "id": "ff54b421-78c6-40a1-a57d-d93867a66c02",
   "metadata": {
    "tags": []
   },
   "outputs": [
    {
     "ename": "NameError",
     "evalue": "name 'np' is not defined",
     "output_type": "error",
     "traceback": [
      "\u001b[1;31m---------------------------------------------------------------------------\u001b[0m",
      "\u001b[1;31mNameError\u001b[0m                                 Traceback (most recent call last)",
      "Input \u001b[1;32mIn [10]\u001b[0m, in \u001b[0;36m<cell line: 2>\u001b[1;34m()\u001b[0m\n\u001b[0;32m      1\u001b[0m \u001b[38;5;66;03m# Frequency / capacitor-voltage data collected in lab step 12\u001b[39;00m\n\u001b[1;32m----> 2\u001b[0m f \u001b[38;5;241m=\u001b[39m \u001b[43mnp\u001b[49m\u001b[38;5;241m.\u001b[39marray([\u001b[38;5;241m0\u001b[39m, \u001b[38;5;241m0\u001b[39m])\n\u001b[0;32m      3\u001b[0m vc \u001b[38;5;241m=\u001b[39m np\u001b[38;5;241m.\u001b[39marray([\u001b[38;5;241m0\u001b[39m, \u001b[38;5;241m0\u001b[39m])\n\u001b[0;32m      5\u001b[0m \u001b[38;5;66;03m# Plot data and fit line\u001b[39;00m\n",
      "\u001b[1;31mNameError\u001b[0m: name 'np' is not defined"
     ]
    }
   ],
   "source": [
    "# Frequency / capacitor-voltage data collected in lab step 12\n",
    "f = np.array([0, 0])\n",
    "vc = np.array([0, 0])\n",
    "\n",
    "# Plot data and fit line\n",
    "fig, ax1 = plt.subplots(1, 1, figsize=(12,10))     # create the axis\n",
    "ax1.plot(f, vc, 'o', label=r\"Your label here\")     # plot the data points as points\n",
    "ax1.set_xlim(0,70)   # change as appropriate to your data\n",
    "ax1.grid()\n",
    "ax1.set_xlabel(r\"Good x axis label\")\n",
    "ax1.set_ylabel(r\"Example axis label with math symbols: $\\sqrt{\\rho^3}$\")\n",
    "ax1.set_title(r\"Good title\")\n",
    "plt.legend(loc='upper right')  # make a legend using the \"label\" text of each plot cmd\n",
    "plt.show()"
   ]
  },
  {
   "cell_type": "markdown",
   "id": "c4b2d345-3b2b-42de-894e-d2d00c5c6d62",
   "metadata": {},
   "source": [
    "This would be a good place to comment on your observations from the frequency sweep.  See lab handout step 12 for ideas.\n",
    "\n",
    "## Summary\n",
    "\n",
    "??\n"
   ]
  },
  {
   "cell_type": "code",
   "execution_count": null,
   "id": "e17a8c8a-5a29-4d3b-a74f-f10cadc63805",
   "metadata": {},
   "outputs": [],
   "source": []
  }
 ],
 "metadata": {
  "kernelspec": {
   "display_name": "Python 3 (ipykernel)",
   "language": "python",
   "name": "python3"
  },
  "language_info": {
   "codemirror_mode": {
    "name": "ipython",
    "version": 3
   },
   "file_extension": ".py",
   "mimetype": "text/x-python",
   "name": "python",
   "nbconvert_exporter": "python",
   "pygments_lexer": "ipython3",
   "version": "3.9.1"
  }
 },
 "nbformat": 4,
 "nbformat_minor": 5
}
