{
 "cells": [
  {
   "cell_type": "markdown",
   "id": "8ef95e1d-eab7-4d83-aff0-7a9aea5b10fc",
   "metadata": {
    "tags": []
   },
   "source": [
    "# Lab 3: Thevenin and Norton Equivalents\n",
    "ENGR 228\\\n",
    "Bob Smith (partner: Alice Jones)\n",
    "\n",
    "## Introduction\n",
    "\n",
    "A short paragraph which explains what the lab was about.  You can reference figures in the lab handout if that helps.\n",
    "\n",
    "## 1. A simple resistor network to test Thevenin/Norton equivalents\n",
    "\n",
    "What's this about?\n",
    "\n",
    "| Resistor ID | Nominal R ($\\Omega$) | Measured R ($\\Omega$) | Percent Error (%) |\n",
    "| ---         | ---                  | ---                   | ---               |\n",
    "| $R_1$       | 130                  |                       |                   |\n",
    "| $R_2$       | 560                  |                       |                   |\n",
    "| $R_3$       | 300                  |                       |                   |\n",
    "\n",
    "After we built it, ...\n",
    "\n",
    "Explain the Python output in the following cell."
   ]
  },
  {
   "cell_type": "code",
   "execution_count": 3,
   "id": "7902148c-9114-4b75-ac7e-9b6985981d87",
   "metadata": {
    "tags": []
   },
   "outputs": [
    {
     "name": "stdout",
     "output_type": "stream",
     "text": [
      "% errors between measured and nominal resistances = [-100.0000 -100.0000 -100.0000]\n",
      "Thevenin resistance Rth = 0.00 Ω (measured), nan Ω (calculated), nan % error\n"
     ]
    },
    {
     "name": "stderr",
     "output_type": "stream",
     "text": [
      "C:\\Users\\mark\\AppData\\Local\\Temp\\ipykernel_14676\\256025712.py:18: RuntimeWarning: invalid value encountered in long_scalars\n",
      "  Rth_calc = Rmeas[2] + (Rmeas[0] * Rmeas[1]) / (Rmeas[0] + Rmeas[1])    # Rth (using measured resistance values) = (R1||R2)+R3\n"
     ]
    },
    {
     "ename": "ZeroDivisionError",
     "evalue": "division by zero",
     "output_type": "error",
     "traceback": [
      "\u001b[1;31m---------------------------------------------------------------------------\u001b[0m",
      "\u001b[1;31mZeroDivisionError\u001b[0m                         Traceback (most recent call last)",
      "Input \u001b[1;32mIn [3]\u001b[0m, in \u001b[0;36m<cell line: 24>\u001b[1;34m()\u001b[0m\n\u001b[0;32m     22\u001b[0m Vth_calc \u001b[38;5;241m=\u001b[39m \u001b[38;5;241m0\u001b[39m    \u001b[38;5;66;03m# write a formula here to calculate Vth (using Rmeas and Vs)\u001b[39;00m\n\u001b[0;32m     23\u001b[0m Vth_meas \u001b[38;5;241m=\u001b[39m \u001b[38;5;241m0\u001b[39m\n\u001b[1;32m---> 24\u001b[0m \u001b[38;5;28mprint\u001b[39m(\u001b[38;5;124m\"\u001b[39m\u001b[38;5;124mThevenin voltage Vth = \u001b[39m\u001b[38;5;132;01m{:.2f}\u001b[39;00m\u001b[38;5;124m V (measured), \u001b[39m\u001b[38;5;132;01m{:.2f}\u001b[39;00m\u001b[38;5;124m V (calculated), \u001b[39m\u001b[38;5;132;01m{:.2f}\u001b[39;00m\u001b[38;5;124m \u001b[39m\u001b[38;5;132;01m% e\u001b[39;00m\u001b[38;5;124mrror\u001b[39m\u001b[38;5;124m\"\u001b[39m\u001b[38;5;241m.\u001b[39mformat(Vth_meas, Vth_calc, \u001b[38;5;241;43m100\u001b[39;49m\u001b[38;5;241;43m*\u001b[39;49m\u001b[43m(\u001b[49m\u001b[43mVth_meas\u001b[49m\u001b[43m \u001b[49m\u001b[38;5;241;43m-\u001b[39;49m\u001b[43m \u001b[49m\u001b[43mVth_calc\u001b[49m\u001b[43m)\u001b[49m\u001b[38;5;241;43m/\u001b[39;49m\u001b[43mVth_calc\u001b[49m))\n\u001b[0;32m     26\u001b[0m IN_calc \u001b[38;5;241m=\u001b[39m \u001b[38;5;241m0\u001b[39m     \u001b[38;5;66;03m# write a formula here to calculate IN (using Rmeas and Vs)\u001b[39;00m\n\u001b[0;32m     27\u001b[0m IN_meas \u001b[38;5;241m=\u001b[39m \u001b[38;5;241m0\u001b[39m\n",
      "\u001b[1;31mZeroDivisionError\u001b[0m: division by zero"
     ]
    }
   ],
   "source": [
    "# Importing these packages lets us do everything we want in the code blocks below.\n",
    "# NumPy is a matrix-based calculation package a lot like MATLAB.\n",
    "# Matplotlib is a graphing and visualization toolkit (sort of like the plotting functionality of MATLAB).\n",
    "import numpy as np\n",
    "import matplotlib\n",
    "import matplotlib.pyplot as plt\n",
    "matplotlib.rcParams.update({'font.size': 18, 'axes.xmargin': 0})\n",
    "np.set_printoptions(floatmode='fixed', precision=4)\n",
    "\n",
    "Rnom = np.array([130, 560, 300])           # nominal resistances\n",
    "Rmeas = np.array([0, 0, 0])          # measured resistances\n",
    "print(\"% errors between measured and nominal resistances = {}\".format(100*(Rmeas - Rnom)/Rnom))\n",
    "\n",
    "# NOTE:  It is up to you to choose the units for voltage, current, and resistance, and update this code to express them (and calculate with them) correctly!\n",
    "\n",
    "Vs = 10   # change this if you measured your actual power-supply voltage\n",
    "\n",
    "Rth_calc = Rmeas[2] + (Rmeas[0] * Rmeas[1]) / (Rmeas[0] + Rmeas[1])    # Rth (using measured resistance values) = (R1||R2)+R3\n",
    "Rth_meas = 0    # measured Rth\n",
    "print(\"Thevenin resistance Rth = {:.2f} Ω (measured), {:.2f} Ω (calculated), {:.2f} % error\".format(Rth_meas, Rth_calc, 100*(Rth_meas - Rth_calc)/Rth_calc))\n",
    "\n",
    "Vth_calc = 0    # write a formula here to calculate Vth (using Rmeas and Vs)\n",
    "Vth_meas = 0\n",
    "print(\"Thevenin voltage Vth = {:.2f} V (measured), {:.2f} V (calculated), {:.2f} % error\".format(Vth_meas, Vth_calc, 100*(Vth_meas - Vth_calc)/Vth_calc))\n",
    "\n",
    "IN_calc = 0     # write a formula here to calculate IN (using Rmeas and Vs)\n",
    "IN_meas = 0\n",
    "print(\"Norton current IN = {:.2f} A (measured), {:.2f} A (calculated), {:.2f} % error\".format(IN_meas, IN_calc, 100*(IN_meas - IN_calc)/IN_calc))\n"
   ]
  },
  {
   "cell_type": "markdown",
   "id": "08fa1b79-3c60-4801-97f0-d9a240004c0b",
   "metadata": {
    "tags": []
   },
   "source": [
    "## 2. Observations with varying load resistance\n",
    "\n",
    "Explain what's going on here (steps 5-7).\n",
    "\n",
    "How were the values in the table below acquired?  Particularly the power.\n",
    "(Note that the \"measured power\" is calculated here, but \"calculated power\" is from step 8 in the handout!)\n",
    "\n",
    "| $R_L$ ($\\Omega$) | $v_L$ (V) | $i_L$ (mA) | Measured $p_L$ (mW) | Calculated $p_L$ (mW) |\n",
    "| ---              | ---       | ---        | ---                 | ---                   |\n",
    "| 20               | 0.000     | 0.000      | 0.000               | 0.000                 |\n",
    "| 35               | 0.000     | 0.000      | 0.000               | 0.000                 |\n",
    "| 50               | 0.000     | 0.000      | 0.000               | 0.000                 |\n",
    "| 100              | 0.000     | 0.000      | 0.000               | 0.000                 |\n",
    "| 200              | 0.000     | 0.000      | 0.000               | 0.000                 |\n",
    "| 300              | 0.000     | 0.000      | 0.000               | 0.000                 |\n",
    "| 400              | 0.000     | 0.000      | 0.000               | 0.000                 |\n",
    "| 500              | 0.000     | 0.000      | 0.000               | 0.000                 |\n",
    "| 600              | 0.000     | 0.000      | 0.000               | 0.000                 |\n",
    "| 800              | 0.000     | 0.000      | 0.000               | 0.000                 |\n",
    "| 1000             | 0.000     | 0.000      | 0.000               | 0.000                 |\n",
    "\n",
    "Comments on the results?  Particularly the power."
   ]
  },
  {
   "cell_type": "code",
   "execution_count": 4,
   "id": "ff54b421-78c6-40a1-a57d-d93867a66c02",
   "metadata": {
    "tags": []
   },
   "outputs": [
    {
     "name": "stdout",
     "output_type": "stream",
     "text": [
      "Power in the load from... = [0 0 0 0 0 0 0 0 0 0 0] units here\n"
     ]
    }
   ],
   "source": [
    "RL = np.array([20, 35, 50, 100, 200, 300, 400, 500, 600, 800, 1000])\n",
    "vL = np.array([0, 0, 0, 0, 0, 0, 0, 0, 0, 0, 0])\n",
    "iL = np.array([0, 0, 0, 0, 0, 0, 0, 0, 0, 0, 0])\n",
    "\n",
    "# This power is \"measured\" because we obtain it from measured voltage and current (vL and iL)\n",
    "pL_meas = vL*iL\n",
    "print('Power in the load from... = {} units here'.format(pL_meas))  # fix units!"
   ]
  },
  {
   "cell_type": "markdown",
   "id": "c4b2d345-3b2b-42de-894e-d2d00c5c6d62",
   "metadata": {},
   "source": [
    "The measured load voltage and current are plotted...\n",
    "\n",
    "Here you should introduce the graph below, explain what is plotted, the significance of various key points on the linear fit, and so on."
   ]
  },
  {
   "cell_type": "code",
   "execution_count": 5,
   "id": "913ed6f5-cebe-4707-aaff-8b3f2a44ed23",
   "metadata": {
    "tags": []
   },
   "outputs": [
    {
     "ename": "SyntaxError",
     "evalue": "invalid syntax (1484383895.py, line 15)",
     "output_type": "error",
     "traceback": [
      "\u001b[1;36m  Input \u001b[1;32mIn [5]\u001b[1;36m\u001b[0m\n\u001b[1;33m    Vth_fit = # fixme!\u001b[0m\n\u001b[1;37m              ^\u001b[0m\n\u001b[1;31mSyntaxError\u001b[0m\u001b[1;31m:\u001b[0m invalid syntax\n"
     ]
    }
   ],
   "source": [
    "# Perform a linear least-squares fit to the (iL,vL) measured data.  We do this because\n",
    "# we expect that (iL,vL) will follow a linear relation, and any deviations from a perfect\n",
    "# line are presumably due to error/noise.\n",
    "N = len(vL)  # number of data points\n",
    "A = np.vstack( [ iL, np.ones(N) ] ).T\n",
    "result = np.linalg.lstsq(A, vL, rcond=None)\n",
    "(m, b) = result[0]  # m is the slope and b is the y-intercept\n",
    "rsquared = 1 - result[1] / (N * vL.var())\n",
    "print(\"rsquared = {} for the linear least-squares fit\".format(rsquared))\n",
    "\n",
    "# Make a line from the slope and y-intercept we found above\n",
    "x = np.linspace(0, np.max(iL), num=100)   # array of 100 evenly spaced x values\n",
    "y = m*x + b\n",
    "\n",
    "Vth_fit = # fixme!\n",
    "Rth_fit = # fixme!\n",
    "print(\"Thevenin parameters derived from the linear fit:  Vth = {:.2f} V and Rth = {:.2f} Ω\".format(Vth_fit, Rth_fit))\n",
    "\n",
    "# Plot the (iL,vL) data points as points, and the linear fit as a line going through the points.\n",
    "fig, ax1 = plt.subplots(1, 1, figsize=(12,10))     # create the axis\n",
    "ax1.plot(iL, vL, 'o', label=r\"Measured data\")      # plot the raw data points as points\n",
    "ax1.plot(x, y, label=r\"Least-squares fit\")         # plot the linear fit as a line\n",
    "#ax1.set_xlim(0,12)   # change as appropriate to your data\n",
    "#ax1.set_ylim(0,3.6)\n",
    "ax1.grid()\n",
    "ax1.set_xlabel(r\"Good x axis label\")\n",
    "ax1.set_ylabel(r\"Example axis label with math symbols: $\\sqrt{\\rho^3}$\")\n",
    "ax1.set_title(r\"Good title\")\n",
    "plt.legend(loc='upper left')  # make a legend using the \"label\" text of each plot cmd\n",
    "plt.show()"
   ]
  },
  {
   "cell_type": "markdown",
   "id": "70edca04-ec2f-4eb4-8257-3179d8ae7353",
   "metadata": {},
   "source": [
    "Explain the different ways in which the Thevenin and Norton circuit parameters were obtained, so the reader can understand the following table.  Also note that you will probably need to grab the formula for the linear fit from the python code above, in order to fill in the last row of the table...\n",
    "\n",
    "| Method                   | $V_{th}$ (V) | $I_N$ (mA) | $R_{th}$ ($\\Omega$) |\n",
    "| ---                      | ---          | ---        | ---                 |\n",
    "| Calculated               | 0.000        | 0.000      | 0.000               |\n",
    "| Measured                 |              |            |                     |\n",
    "| Derived from linear fit  |              |            |                     |\n",
    "\n",
    "\n",
    "## 3. Power in the load resistor\n",
    "\n",
    "Explain what's going on here (steps 8-10).  If you want to include the formula, you could enter it using LaTeX syntax like this:\n",
    "$$\n",
    "p_L = \\left( \\frac{ V_{th} }{ R_{th} + R_L } \\right)^2 R_L\n",
    "$$\n",
    "\n",
    "Explain how the graph below was obtained.\n",
    "\n",
    "At this point you should discuss the Maximum Power Theorem and how it applies to your experiment.  Calculate the maximum power which $R_L$ could dissipate, and the value of $R_L$ where this should occur.  Are the results consistent with your plot?\n"
   ]
  },
  {
   "cell_type": "code",
   "execution_count": 6,
   "id": "0cb90f17-d8dc-4017-9e10-f4dafe10ecca",
   "metadata": {
    "tags": []
   },
   "outputs": [
    {
     "ename": "ValueError",
     "evalue": "x and y must have same first dimension, but have shapes (11,) and (1,)",
     "output_type": "error",
     "traceback": [
      "\u001b[1;31m---------------------------------------------------------------------------\u001b[0m",
      "\u001b[1;31mValueError\u001b[0m                                Traceback (most recent call last)",
      "Input \u001b[1;32mIn [6]\u001b[0m, in \u001b[0;36m<cell line: 6>\u001b[1;34m()\u001b[0m\n\u001b[0;32m      4\u001b[0m \u001b[38;5;66;03m# Plot the calculated load power and the measured load power, both vs load resistance\u001b[39;00m\n\u001b[0;32m      5\u001b[0m fig, ax2 \u001b[38;5;241m=\u001b[39m plt\u001b[38;5;241m.\u001b[39msubplots(\u001b[38;5;241m1\u001b[39m, \u001b[38;5;241m1\u001b[39m, figsize\u001b[38;5;241m=\u001b[39m(\u001b[38;5;241m12\u001b[39m,\u001b[38;5;241m10\u001b[39m))     \u001b[38;5;66;03m# create the axis\u001b[39;00m\n\u001b[1;32m----> 6\u001b[0m \u001b[43max2\u001b[49m\u001b[38;5;241;43m.\u001b[39;49m\u001b[43mplot\u001b[49m\u001b[43m(\u001b[49m\u001b[43mRL\u001b[49m\u001b[43m,\u001b[49m\u001b[43m \u001b[49m\u001b[43mpL_calc\u001b[49m\u001b[43m,\u001b[49m\u001b[43m \u001b[49m\u001b[38;5;124;43m'\u001b[39;49m\u001b[38;5;124;43mo\u001b[39;49m\u001b[38;5;124;43m'\u001b[39;49m\u001b[43m,\u001b[49m\u001b[43m \u001b[49m\u001b[43mlabel\u001b[49m\u001b[38;5;241;43m=\u001b[39;49m\u001b[38;5;124;43mr\u001b[39;49m\u001b[38;5;124;43m\"\u001b[39;49m\u001b[38;5;124;43mCalculated load power\u001b[39;49m\u001b[38;5;124;43m\"\u001b[39;49m\u001b[43m)\u001b[49m  \u001b[38;5;66;03m# plot the first data series as points\u001b[39;00m\n\u001b[0;32m      7\u001b[0m ax2\u001b[38;5;241m.\u001b[39mplot(RL, pL_meas, \u001b[38;5;124m'\u001b[39m\u001b[38;5;124mo\u001b[39m\u001b[38;5;124m'\u001b[39m, label\u001b[38;5;241m=\u001b[39m\u001b[38;5;124mr\u001b[39m\u001b[38;5;124m\"\u001b[39m\u001b[38;5;124mMeasured load power\u001b[39m\u001b[38;5;124m\"\u001b[39m)    \u001b[38;5;66;03m# plot the second data series as points\u001b[39;00m\n\u001b[0;32m      8\u001b[0m \u001b[38;5;66;03m#ax2.set_xlim(0,12)   # change as appropriate to your data\u001b[39;00m\n\u001b[0;32m      9\u001b[0m \u001b[38;5;66;03m#ax2.set_ylim(0,3.6)\u001b[39;00m\n",
      "File \u001b[1;32m~\\miniconda3\\lib\\site-packages\\matplotlib\\axes\\_axes.py:1743\u001b[0m, in \u001b[0;36mAxes.plot\u001b[1;34m(self, scalex, scaley, data, *args, **kwargs)\u001b[0m\n\u001b[0;32m   1512\u001b[0m \u001b[38;5;124;03m\"\"\"\u001b[39;00m\n\u001b[0;32m   1513\u001b[0m \u001b[38;5;124;03mPlot y versus x as lines and/or markers.\u001b[39;00m\n\u001b[0;32m   1514\u001b[0m \n\u001b[1;32m   (...)\u001b[0m\n\u001b[0;32m   1740\u001b[0m \u001b[38;5;124;03m(``'green'``) or hex strings (``'#008000'``).\u001b[39;00m\n\u001b[0;32m   1741\u001b[0m \u001b[38;5;124;03m\"\"\"\u001b[39;00m\n\u001b[0;32m   1742\u001b[0m kwargs \u001b[38;5;241m=\u001b[39m cbook\u001b[38;5;241m.\u001b[39mnormalize_kwargs(kwargs, mlines\u001b[38;5;241m.\u001b[39mLine2D)\n\u001b[1;32m-> 1743\u001b[0m lines \u001b[38;5;241m=\u001b[39m [\u001b[38;5;241m*\u001b[39m\u001b[38;5;28mself\u001b[39m\u001b[38;5;241m.\u001b[39m_get_lines(\u001b[38;5;241m*\u001b[39margs, data\u001b[38;5;241m=\u001b[39mdata, \u001b[38;5;241m*\u001b[39m\u001b[38;5;241m*\u001b[39mkwargs)]\n\u001b[0;32m   1744\u001b[0m \u001b[38;5;28;01mfor\u001b[39;00m line \u001b[38;5;129;01min\u001b[39;00m lines:\n\u001b[0;32m   1745\u001b[0m     \u001b[38;5;28mself\u001b[39m\u001b[38;5;241m.\u001b[39madd_line(line)\n",
      "File \u001b[1;32m~\\miniconda3\\lib\\site-packages\\matplotlib\\axes\\_base.py:273\u001b[0m, in \u001b[0;36m_process_plot_var_args.__call__\u001b[1;34m(self, data, *args, **kwargs)\u001b[0m\n\u001b[0;32m    271\u001b[0m     this \u001b[38;5;241m+\u001b[39m\u001b[38;5;241m=\u001b[39m args[\u001b[38;5;241m0\u001b[39m],\n\u001b[0;32m    272\u001b[0m     args \u001b[38;5;241m=\u001b[39m args[\u001b[38;5;241m1\u001b[39m:]\n\u001b[1;32m--> 273\u001b[0m \u001b[38;5;28;01myield from\u001b[39;00m \u001b[38;5;28;43mself\u001b[39;49m\u001b[38;5;241;43m.\u001b[39;49m\u001b[43m_plot_args\u001b[49m\u001b[43m(\u001b[49m\u001b[43mthis\u001b[49m\u001b[43m,\u001b[49m\u001b[43m \u001b[49m\u001b[43mkwargs\u001b[49m\u001b[43m)\u001b[49m\n",
      "File \u001b[1;32m~\\miniconda3\\lib\\site-packages\\matplotlib\\axes\\_base.py:399\u001b[0m, in \u001b[0;36m_process_plot_var_args._plot_args\u001b[1;34m(self, tup, kwargs)\u001b[0m\n\u001b[0;32m    396\u001b[0m     \u001b[38;5;28mself\u001b[39m\u001b[38;5;241m.\u001b[39maxes\u001b[38;5;241m.\u001b[39myaxis\u001b[38;5;241m.\u001b[39mupdate_units(y)\n\u001b[0;32m    398\u001b[0m \u001b[38;5;28;01mif\u001b[39;00m x\u001b[38;5;241m.\u001b[39mshape[\u001b[38;5;241m0\u001b[39m] \u001b[38;5;241m!=\u001b[39m y\u001b[38;5;241m.\u001b[39mshape[\u001b[38;5;241m0\u001b[39m]:\n\u001b[1;32m--> 399\u001b[0m     \u001b[38;5;28;01mraise\u001b[39;00m \u001b[38;5;167;01mValueError\u001b[39;00m(\u001b[38;5;124mf\u001b[39m\u001b[38;5;124m\"\u001b[39m\u001b[38;5;124mx and y must have same first dimension, but \u001b[39m\u001b[38;5;124m\"\u001b[39m\n\u001b[0;32m    400\u001b[0m                      \u001b[38;5;124mf\u001b[39m\u001b[38;5;124m\"\u001b[39m\u001b[38;5;124mhave shapes \u001b[39m\u001b[38;5;132;01m{\u001b[39;00mx\u001b[38;5;241m.\u001b[39mshape\u001b[38;5;132;01m}\u001b[39;00m\u001b[38;5;124m and \u001b[39m\u001b[38;5;132;01m{\u001b[39;00my\u001b[38;5;241m.\u001b[39mshape\u001b[38;5;132;01m}\u001b[39;00m\u001b[38;5;124m\"\u001b[39m)\n\u001b[0;32m    401\u001b[0m \u001b[38;5;28;01mif\u001b[39;00m x\u001b[38;5;241m.\u001b[39mndim \u001b[38;5;241m>\u001b[39m \u001b[38;5;241m2\u001b[39m \u001b[38;5;129;01mor\u001b[39;00m y\u001b[38;5;241m.\u001b[39mndim \u001b[38;5;241m>\u001b[39m \u001b[38;5;241m2\u001b[39m:\n\u001b[0;32m    402\u001b[0m     \u001b[38;5;28;01mraise\u001b[39;00m \u001b[38;5;167;01mValueError\u001b[39;00m(\u001b[38;5;124mf\u001b[39m\u001b[38;5;124m\"\u001b[39m\u001b[38;5;124mx and y can be no greater than 2-D, but have \u001b[39m\u001b[38;5;124m\"\u001b[39m\n\u001b[0;32m    403\u001b[0m                      \u001b[38;5;124mf\u001b[39m\u001b[38;5;124m\"\u001b[39m\u001b[38;5;124mshapes \u001b[39m\u001b[38;5;132;01m{\u001b[39;00mx\u001b[38;5;241m.\u001b[39mshape\u001b[38;5;132;01m}\u001b[39;00m\u001b[38;5;124m and \u001b[39m\u001b[38;5;132;01m{\u001b[39;00my\u001b[38;5;241m.\u001b[39mshape\u001b[38;5;132;01m}\u001b[39;00m\u001b[38;5;124m\"\u001b[39m)\n",
      "\u001b[1;31mValueError\u001b[0m: x and y must have same first dimension, but have shapes (11,) and (1,)"
     ]
    },
    {
     "data": {
      "image/png": "[encoded data removed]",
      "text/plain": [
       "<Figure size 864x720 with 1 Axes>"
      ]
     },
     "metadata": {
      "needs_background": "light"
     },
     "output_type": "display_data"
    }
   ],
   "source": [
    "# Calculate the load power using trendline Vth and Rth and RL values dialed into the resistance box\n",
    "pL_calc = 0  # use the formula from the lab handout here (exponentiation is ** in python)\n",
    "\n",
    "# Plot the calculated load power and the measured load power, both vs load resistance\n",
    "fig, ax2 = plt.subplots(1, 1, figsize=(12,10))     # create the axis\n",
    "ax2.plot(RL, pL_calc, 'o', label=r\"Calculated load power\")  # plot the first data series as points\n",
    "ax2.plot(RL, pL_meas, 'o', label=r\"Measured load power\")    # plot the second data series as points\n",
    "#ax2.set_xlim(0,12)   # change as appropriate to your data\n",
    "#ax2.set_ylim(0,3.6)\n",
    "ax2.grid()\n",
    "ax2.set_xlabel(r\"Good x axis label\")\n",
    "ax2.set_ylabel(r\"Example axis label with math symbols: $\\sqrt{\\rho^3}$\")\n",
    "ax2.set_title(r\"Good title\")\n",
    "plt.legend(loc='upper left')  # make a legend using the \"label\" text of each plot cmd\n",
    "plt.show()"
   ]
  },
  {
   "cell_type": "markdown",
   "id": "b536429d-5288-478e-b131-67adacdb4449",
   "metadata": {},
   "source": [
    "## 4. Summary\n",
    "\n",
    "Step 11 in the handout."
   ]
  },
  {
   "cell_type": "code",
   "execution_count": null,
   "id": "5cadfbc5-b1c5-4068-b471-64bf0efdfefb",
   "metadata": {},
   "outputs": [],
   "source": []
  }
 ],
 "metadata": {
  "kernelspec": {
   "display_name": "Python 3 (ipykernel)",
   "language": "python",
   "name": "python3"
  },
  "language_info": {
   "codemirror_mode": {
    "name": "ipython",
    "version": 3
   },
   "file_extension": ".py",
   "mimetype": "text/x-python",
   "name": "python",
   "nbconvert_exporter": "python",
   "pygments_lexer": "ipython3",
   "version": "3.9.1"
  }
 },
 "nbformat": 4,
 "nbformat_minor": 5
}
