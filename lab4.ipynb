{
 "cells": [
  {
   "cell_type": "markdown",
   "id": "8ef95e1d-eab7-4d83-aff0-7a9aea5b10fc",
   "metadata": {
    "tags": []
   },
   "source": [
    "# Lab 4: Attenuator Analysis\n",
    "ENGR 228\\\n",
    "Bob Smith (partner: Alice Jones)\n",
    "\n",
    "## Introduction\n",
    "\n",
    "A short paragraph which explains what the lab was about.  You can reference figures in the lab handout if that helps.\n",
    "\n",
    "## 1. Thevenin model for the function generator\n",
    "\n",
    "What's this about?  (Make sure you explain how you are getting the measured and the calculated values, and what the difference is between this data and the next table in the report, which looks almost the same.)\n",
    "\n",
    "| R<sub>L</sub> (Ω) | v<sub>L,calc</sub> (V<sub>pp</sub>) | v<sub>L,meas</sub> (V<sub>pp</sub>) |\n",
    "| ---              | ---                   | ---               |\n",
    "| 1000             |                       |                   |\n",
    "| 500              |                       |                   |\n",
    "| 200              |                       |                   |\n",
    "| 100              |                       |                   |\n",
    "| 80               |                       |                   |\n",
    "| 60               |                       |                   |\n",
    "| 50               |                       |                   |\n",
    "| 40               |                       |                   |\n",
    "| 30               |                       |                   |\n",
    "| 20               |                       |                   |\n",
    "| 10               |                       |                   |\n"
   ]
  },
  {
   "cell_type": "code",
   "execution_count": 41,
   "id": "7902148c-9114-4b75-ac7e-9b6985981d87",
   "metadata": {
    "tags": []
   },
   "outputs": [
    {
     "ename": "SyntaxError",
     "evalue": "invalid syntax (3403478107.py, line 16)",
     "output_type": "error",
     "traceback": [
      "\u001b[1;36m  Input \u001b[1;32mIn [41]\u001b[1;36m\u001b[0m\n\u001b[1;33m    vL_calc = # your formula here\u001b[0m\n\u001b[1;37m              ^\u001b[0m\n\u001b[1;31mSyntaxError\u001b[0m\u001b[1;31m:\u001b[0m invalid syntax\n"
     ]
    }
   ],
   "source": [
    "# Importing these packages lets us do everything we want in the code blocks below.\n",
    "# NumPy is a matrix-based calculation package a lot like MATLAB.\n",
    "# Matplotlib is a graphing and visualization toolkit (like the plotting functionality of MATLAB).\n",
    "import numpy as np\n",
    "import matplotlib\n",
    "import matplotlib.pyplot as plt\n",
    "matplotlib.rcParams.update({'font.size': 18})\n",
    "np.set_printoptions(floatmode='fixed', precision=4)\n",
    "\n",
    "# NOTE:  It is up to you to choose the units for voltage, current, and resistance, and update this code to express them (and calculate with them) correctly!\n",
    "\n",
    "# Load voltage (vL) calculation assuming Vs = 6 V (peak to peak) and Rs = 50 ohms\n",
    "Vs = 6\n",
    "Rs = 50\n",
    "RL = np.array([1000, 500, 200, 100, 80, 60, 50, 40, 30, 20, 10]) # load resistor values\n",
    "vL_calc = # your formula here\n",
    "\n",
    "print('Calculated vL (assuming Vs = {:.1f} Vpp and Rs = {:.1f} \\u03a9) = {} V'.format(Vs, Rs, vL_calc))"
   ]
  },
  {
   "cell_type": "markdown",
   "id": "08fa1b79-3c60-4801-97f0-d9a240004c0b",
   "metadata": {
    "tags": []
   },
   "source": [
    "What is this table for?  Where did the calculated and measured values come from?  Etc.\n",
    "\n",
    "| R<sub>L</sub> (Ω) | v<sub>L,calc</sub> (V<sub>pp</sub>) | v<sub>L,meas</sub> (V<sub>pp</sub>) | Percent error (\\%) |\n",
    "| ---               | ---                   | ---               | ---    |\n",
    "| 1000              |                       |                   |        |\n",
    "| 500               |                       |                   |        |\n",
    "| 200               |                       |                   |        |\n",
    "| 100               |                       |                   |        |\n",
    "| 80                |                       |                   |        |\n",
    "| 60                |                       |                   |        |\n",
    "| 50                |                       |                   |        |\n",
    "| 40                |                       |                   |        |\n",
    "| 30                |                       |                   |        |\n",
    "| 20                |                       |                   |        |\n",
    "| 10                |                       |                   |        |\n",
    "\n",
    "Observations?"
   ]
  },
  {
   "cell_type": "code",
   "execution_count": 39,
   "id": "ff54b421-78c6-40a1-a57d-d93867a66c02",
   "metadata": {
    "tags": []
   },
   "outputs": [
    {
     "name": "stdout",
     "output_type": "stream",
     "text": [
      "Optimized Thevenin-model parameters: Vs = 0.0000 V and Rs = 10.0000 Ω\n"
     ]
    }
   ],
   "source": [
    "# Optimization problem:  Given observations of vo at various RL settings, find the\n",
    "# values of Vs and Rs which best fit this data.  We do this by having the optimizer\n",
    "# assume some Vs and Rs, then find the squared error between vL_calc and vL_meas, then\n",
    "# tweak Vs and Rs until the squared error is as small as it can be.  The \"scipy\" package\n",
    "# provides tools to do this.\n",
    "from scipy.optimize import least_squares\n",
    "\n",
    "# Measured vo from step 3 (fill with your data)\n",
    "vL_meas = np.array([ 0, 0, 0, 0, 0, 0, 0, 0, 0, 0, 0 ])\n",
    "\n",
    "def error(x):\n",
    "    \"\"\"\n",
    "    Function to calculate (vL_calc - vL_meas)^2 for the optimizer.\n",
    "    Input vector x:  x[0]  Vs (Thevenin voltage)\n",
    "                     x[1]  Rs (Thevenin resistance)\n",
    "    \"\"\"\n",
    "    return np.square(x[0]*RL/(x[1]+RL) - vL_meas)\n",
    "\n",
    "\n",
    "# x0 is the first (Vs, Rs) pair to try.  Let's start with our original assumption.\n",
    "# (Vs and Rs values as they were set in the first code block)\n",
    "x0 = np.array([Vs, Rs])\n",
    "result = least_squares(error, x0, method='lm')  # run the optimizer\n",
    "Vs_opt = result.x[0]\n",
    "Rs_opt = result.x[1]\n",
    "print('Optimized Thevenin-model parameters: Vs = {:.4f} Vpp and Rs = {:.4f} \\u03a9'.format(Vs_opt, Rs_opt))\n",
    "\n",
    "# Now re-calculate vL_calc using the optimized Thevenin model (step 6)\n",
    "vL_calc_opt = # your equation here\n",
    "print('Calculated vL (with optimized Vs, Rs) = {} V'.format(vL_calc_opt))\n",
    "\n",
    "# Calculate percent error between the updated vL_calc and the original vL_meas\n",
    "print( 'Percent error = {}'.format(100*(vL_calc_opt - vL_meas)/vL_meas) )"
   ]
  },
  {
   "cell_type": "markdown",
   "id": "c4b2d345-3b2b-42de-894e-d2d00c5c6d62",
   "metadata": {},
   "source": [
    "## 2. $\\pi$-attenuator circuit\n",
    "\n",
    "Introduce this section and explain what you did.  Be sure to reference specific figures in the lab handout when discussing the circuit.\n",
    "\n",
    "Where did this table come from and what does it mean?  How did you measure the measured values and how did you calculate the calculated values?\n",
    "\n",
    "Note: you may use python to perform these calculations if you like, but you don't have to.  You should, however, show/say how you calculated $R_{in}$ for each case.  Here is some math code to get you started---you will need to expand it.\n",
    "\n",
    "$$\n",
    "R_{in,calc} = 62 \\parallel (240 + \\dots)\n",
    "$$\n",
    "\n",
    "\n",
    "| R<sub>L</sub> (Ω) | R<sub>in,calc</sub> (Ω)   | R<sub>in,meas</sub> (Ω)   |\n",
    "| ---               | ---                       | ---                       |\n",
    "| 0                 |                           |                           |\n",
    "| 50                |                           |                           |\n",
    "| $\\infty$          |                           |                           |\n",
    "\n",
    "What did you do next?\n",
    "\n",
    "What does this table show, and how was it obtained?\n",
    "\n",
    "| R<sub>L</sub> (Ω) | v<sub>L</sub> (V<sub>pp</sub>) |\n",
    "| ---               | ---                            |\n",
    "| 1000              |                                |\n",
    "| 500               |                                |\n",
    "| 200               |                                |\n",
    "| 100               |                                |\n",
    "| 80                |                                |\n",
    "| 60                |                                |\n",
    "| 50                |                                |\n",
    "| 40                |                                |\n",
    "| 30                |                                |\n",
    "| 20                |                                |\n",
    "| 10                |                                |\n",
    "\n",
    "What do your results imply?  (Hint: consider how the load voltage varies as a function of load resistance.  How does this change when the attenuator is inserted between the source and the load?  Does $v_L$ become more, or less, dependent on $R_L$?)\n"
   ]
  },
  {
   "cell_type": "code",
   "execution_count": null,
   "id": "e17a8c8a-5a29-4d3b-a74f-f10cadc63805",
   "metadata": {},
   "outputs": [],
   "source": []
  }
 ],
 "metadata": {
  "kernelspec": {
   "display_name": "Python 3 (ipykernel)",
   "language": "python",
   "name": "python3"
  },
  "language_info": {
   "codemirror_mode": {
    "name": "ipython",
    "version": 3
   },
   "file_extension": ".py",
   "mimetype": "text/x-python",
   "name": "python",
   "nbconvert_exporter": "python",
   "pygments_lexer": "ipython3",
   "version": "3.9.1"
  }
 },
 "nbformat": 4,
 "nbformat_minor": 5
}
